{
 "cells": [
  {
   "cell_type": "markdown",
   "id": "f99e06db",
   "metadata": {},
   "source": [
    "# A. Data Exploration"
   ]
  },
  {
   "cell_type": "markdown",
   "id": "55af905f",
   "metadata": {},
   "source": [
    "## 1. Sentinel 1 radar data and Sentinel 2 multispectral data\n",
    "\n",
    "Source: Copernicus Browser or in Google Earth Engine"
   ]
  },
  {
   "cell_type": "code",
   "execution_count": null,
   "id": "63577b95",
   "metadata": {},
   "outputs": [],
   "source": []
  },
  {
   "cell_type": "code",
   "execution_count": null,
   "id": "517ce70c",
   "metadata": {},
   "outputs": [],
   "source": []
  },
  {
   "cell_type": "markdown",
   "id": "d75a5f06",
   "metadata": {},
   "source": [
    "## 2. Specific Marker Wadden data\n",
    "\n",
    "Source: [Dutch Public Works Dept](https://open.rijkswaterstaat.nl/@254169/datarapportage-kima-overzicht-meetdata/)"
   ]
  },
  {
   "cell_type": "code",
   "execution_count": null,
   "id": "aea4775d",
   "metadata": {},
   "outputs": [],
   "source": []
  },
  {
   "cell_type": "code",
   "execution_count": null,
   "id": "7b0626f6",
   "metadata": {},
   "outputs": [],
   "source": []
  },
  {
   "cell_type": "markdown",
   "id": "4ea044df",
   "metadata": {},
   "source": [
    "## 3. Airborne LiDAR data from AHN and aerial photos\n",
    "\n",
    "Source: [GeoTiles TU Delft](https://geotiles.citg.tudelft.nl/)"
   ]
  },
  {
   "cell_type": "code",
   "execution_count": null,
   "id": "97236dc0",
   "metadata": {},
   "outputs": [],
   "source": []
  },
  {
   "cell_type": "code",
   "execution_count": null,
   "id": "74f41060",
   "metadata": {},
   "outputs": [],
   "source": []
  },
  {
   "cell_type": "markdown",
   "id": "cc7992b5",
   "metadata": {},
   "source": [
    "## 4. High resolution satellite imagery\n",
    "\n",
    "Source: [Netherlands Space Office (NSO) Satellite Data Portal](https://www.satellietdataportaal.nl/)"
   ]
  },
  {
   "cell_type": "code",
   "execution_count": null,
   "id": "5e19b364",
   "metadata": {},
   "outputs": [],
   "source": []
  },
  {
   "cell_type": "code",
   "execution_count": null,
   "id": "9ffbb201",
   "metadata": {},
   "outputs": [],
   "source": []
  }
 ],
 "metadata": {
  "language_info": {
   "name": "python"
  }
 },
 "nbformat": 4,
 "nbformat_minor": 5
}
